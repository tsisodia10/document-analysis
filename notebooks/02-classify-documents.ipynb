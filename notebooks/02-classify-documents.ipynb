{
 "cells": [
  {
   "cell_type": "markdown",
   "metadata": {},
   "source": [
    "# Classify Documents"
   ]
  },
  {
   "cell_type": "code",
   "execution_count": 1,
   "metadata": {
    "tags": []
   },
   "outputs": [],
   "source": [
    "%load_ext autoreload\n",
    "%autoreload 2\n",
    "\n",
    "from IPython.core.interactiveshell import InteractiveShell\n",
    "InteractiveShell.ast_node_interactivity = \"all\""
   ]
  },
  {
   "cell_type": "markdown",
   "metadata": {},
   "source": [
    "## Load Data\n",
    "The next cell will load embeddings generated in notebook [01-get-embeddings.ipynb](./01-get-embeddings.ipynb)."
   ]
  },
  {
   "cell_type": "code",
   "execution_count": 28,
   "metadata": {
    "tags": []
   },
   "outputs": [],
   "source": [
    "import pandas as pd\n",
    "\n",
    "df_orig = pd.read_csv(\"bbc-news-data-embedding.csv\", delimiter='\\t', index_col=False)"
   ]
  },
  {
   "cell_type": "code",
   "execution_count": 29,
   "metadata": {
    "tags": []
   },
   "outputs": [
    {
     "data": {
      "text/html": [
       "<div>\n",
       "<style scoped>\n",
       "    .dataframe tbody tr th:only-of-type {\n",
       "        vertical-align: middle;\n",
       "    }\n",
       "\n",
       "    .dataframe tbody tr th {\n",
       "        vertical-align: top;\n",
       "    }\n",
       "\n",
       "    .dataframe thead th {\n",
       "        text-align: right;\n",
       "    }\n",
       "</style>\n",
       "<table border=\"1\" class=\"dataframe\">\n",
       "  <thead>\n",
       "    <tr style=\"text-align: right;\">\n",
       "      <th></th>\n",
       "      <th>category</th>\n",
       "      <th>filename</th>\n",
       "      <th>title</th>\n",
       "      <th>content</th>\n",
       "      <th>embedding</th>\n",
       "    </tr>\n",
       "  </thead>\n",
       "  <tbody>\n",
       "    <tr>\n",
       "      <th>0</th>\n",
       "      <td>business</td>\n",
       "      <td>001.txt</td>\n",
       "      <td>Ad sales boost Time Warner profit</td>\n",
       "      <td>Quarterly profits at US media giant TimeWarne...</td>\n",
       "      <td>[-0.02130456641316414, -0.01682969368994236, -...</td>\n",
       "    </tr>\n",
       "    <tr>\n",
       "      <th>1</th>\n",
       "      <td>business</td>\n",
       "      <td>002.txt</td>\n",
       "      <td>Dollar gains on Greenspan speech</td>\n",
       "      <td>The dollar has hit its highest level against ...</td>\n",
       "      <td>[-0.024546362459659576, -0.013037018477916718,...</td>\n",
       "    </tr>\n",
       "    <tr>\n",
       "      <th>2</th>\n",
       "      <td>business</td>\n",
       "      <td>003.txt</td>\n",
       "      <td>Yukos unit buyer faces loan claim</td>\n",
       "      <td>The owners of embattled Russian oil giant Yuk...</td>\n",
       "      <td>[-0.021691035479307175, -0.03697184473276138, ...</td>\n",
       "    </tr>\n",
       "    <tr>\n",
       "      <th>3</th>\n",
       "      <td>business</td>\n",
       "      <td>004.txt</td>\n",
       "      <td>High fuel prices hit BA's profits</td>\n",
       "      <td>British Airways has blamed high fuel prices f...</td>\n",
       "      <td>[-0.021805426105856895, -0.016833839938044548,...</td>\n",
       "    </tr>\n",
       "    <tr>\n",
       "      <th>4</th>\n",
       "      <td>business</td>\n",
       "      <td>005.txt</td>\n",
       "      <td>Pernod takeover talk lifts Domecq</td>\n",
       "      <td>Shares in UK drinks and food firm Allied Dome...</td>\n",
       "      <td>[-0.008381073363125324, -0.008448663167655468,...</td>\n",
       "    </tr>\n",
       "    <tr>\n",
       "      <th>...</th>\n",
       "      <td>...</td>\n",
       "      <td>...</td>\n",
       "      <td>...</td>\n",
       "      <td>...</td>\n",
       "      <td>...</td>\n",
       "    </tr>\n",
       "    <tr>\n",
       "      <th>2241</th>\n",
       "      <td>tech</td>\n",
       "      <td>397.txt</td>\n",
       "      <td>BT program to beat dialler scams</td>\n",
       "      <td>BT is introducing two initiatives to help bea...</td>\n",
       "      <td>NaN</td>\n",
       "    </tr>\n",
       "    <tr>\n",
       "      <th>2242</th>\n",
       "      <td>tech</td>\n",
       "      <td>398.txt</td>\n",
       "      <td>Spam e-mails tempt net shoppers</td>\n",
       "      <td>Computer users across the world continue to i...</td>\n",
       "      <td>NaN</td>\n",
       "    </tr>\n",
       "    <tr>\n",
       "      <th>2243</th>\n",
       "      <td>tech</td>\n",
       "      <td>399.txt</td>\n",
       "      <td>Be careful how you code</td>\n",
       "      <td>A new European directive could put software w...</td>\n",
       "      <td>NaN</td>\n",
       "    </tr>\n",
       "    <tr>\n",
       "      <th>2244</th>\n",
       "      <td>tech</td>\n",
       "      <td>400.txt</td>\n",
       "      <td>US cyber security chief resigns</td>\n",
       "      <td>The man making sure US computer networks are ...</td>\n",
       "      <td>NaN</td>\n",
       "    </tr>\n",
       "    <tr>\n",
       "      <th>2245</th>\n",
       "      <td>tech</td>\n",
       "      <td>401.txt</td>\n",
       "      <td>Losing yourself in online gaming</td>\n",
       "      <td>Online role playing games are time-consuming,...</td>\n",
       "      <td>NaN</td>\n",
       "    </tr>\n",
       "  </tbody>\n",
       "</table>\n",
       "<p>2246 rows × 5 columns</p>\n",
       "</div>"
      ],
      "text/plain": [
       "      category filename                              title  \\\n",
       "0     business  001.txt  Ad sales boost Time Warner profit   \n",
       "1     business  002.txt   Dollar gains on Greenspan speech   \n",
       "2     business  003.txt  Yukos unit buyer faces loan claim   \n",
       "3     business  004.txt  High fuel prices hit BA's profits   \n",
       "4     business  005.txt  Pernod takeover talk lifts Domecq   \n",
       "...        ...      ...                                ...   \n",
       "2241      tech  397.txt   BT program to beat dialler scams   \n",
       "2242      tech  398.txt    Spam e-mails tempt net shoppers   \n",
       "2243      tech  399.txt            Be careful how you code   \n",
       "2244      tech  400.txt    US cyber security chief resigns   \n",
       "2245      tech  401.txt   Losing yourself in online gaming   \n",
       "\n",
       "                                                content  \\\n",
       "0      Quarterly profits at US media giant TimeWarne...   \n",
       "1      The dollar has hit its highest level against ...   \n",
       "2      The owners of embattled Russian oil giant Yuk...   \n",
       "3      British Airways has blamed high fuel prices f...   \n",
       "4      Shares in UK drinks and food firm Allied Dome...   \n",
       "...                                                 ...   \n",
       "2241   BT is introducing two initiatives to help bea...   \n",
       "2242   Computer users across the world continue to i...   \n",
       "2243   A new European directive could put software w...   \n",
       "2244   The man making sure US computer networks are ...   \n",
       "2245   Online role playing games are time-consuming,...   \n",
       "\n",
       "                                              embedding  \n",
       "0     [-0.02130456641316414, -0.01682969368994236, -...  \n",
       "1     [-0.024546362459659576, -0.013037018477916718,...  \n",
       "2     [-0.021691035479307175, -0.03697184473276138, ...  \n",
       "3     [-0.021805426105856895, -0.016833839938044548,...  \n",
       "4     [-0.008381073363125324, -0.008448663167655468,...  \n",
       "...                                                 ...  \n",
       "2241                                                NaN  \n",
       "2242                                                NaN  \n",
       "2243                                                NaN  \n",
       "2244                                                NaN  \n",
       "2245                                                NaN  \n",
       "\n",
       "[2246 rows x 5 columns]"
      ]
     },
     "execution_count": 29,
     "metadata": {},
     "output_type": "execute_result"
    }
   ],
   "source": [
    "df = df_orig.copy()\n",
    "df"
   ]
  },
  {
   "cell_type": "code",
   "execution_count": 30,
   "metadata": {
    "tags": []
   },
   "outputs": [
    {
     "data": {
      "text/plain": [
       "20"
      ]
     },
     "execution_count": 30,
     "metadata": {},
     "output_type": "execute_result"
    }
   ],
   "source": [
    "# drop rows with NaN\n",
    "df.dropna(inplace=True)\n",
    "len(df)"
   ]
  },
  {
   "cell_type": "markdown",
   "metadata": {},
   "source": [
    "## Deploy a Model"
   ]
  },
  {
   "cell_type": "code",
   "execution_count": 21,
   "metadata": {
    "tags": []
   },
   "outputs": [
    {
     "name": "stdout",
     "output_type": "stream",
     "text": [
      "{'additional_properties': {}, 'id': '/subscriptions/99d7836d-942d-4759-80b6-2ed3b80b49e9/resourceGroups/cloud-shell-storage-eastus/providers/Microsoft.CognitiveServices/accounts/tsisodia-openai/deployments/tsisodia-gpt4o', 'name': 'tsisodia-gpt4o', 'type': 'Microsoft.CognitiveServices/accounts/deployments', 'sku': <azure.mgmt.cognitiveservices.models._models_py3.Sku object at 0x7fb753ec1220>, 'system_data': <azure.mgmt.cognitiveservices.models._models_py3.SystemData object at 0x7fb753ec13d0>, 'etag': '\"f0fc90f3-1a6b-4d58-924c-041e474b364f\"', 'properties': <azure.mgmt.cognitiveservices.models._models_py3.DeploymentProperties object at 0x7fb753ec16d0>}\n",
      "{'additional_properties': {}, 'id': '/subscriptions/99d7836d-942d-4759-80b6-2ed3b80b49e9/resourceGroups/cloud-shell-storage-eastus/providers/Microsoft.CognitiveServices/accounts/tsisodia-openai/deployments/tsisodia-gpt', 'name': 'tsisodia-gpt', 'type': 'Microsoft.CognitiveServices/accounts/deployments', 'sku': <azure.mgmt.cognitiveservices.models._models_py3.Sku object at 0x7fb753ec11c0>, 'system_data': <azure.mgmt.cognitiveservices.models._models_py3.SystemData object at 0x7fb753ec1bb0>, 'etag': '\"08713dd3-304f-46bc-aa80-997c8097a773\"', 'properties': <azure.mgmt.cognitiveservices.models._models_py3.DeploymentProperties object at 0x7fb753ec19d0>}\n",
      "{'additional_properties': {}, 'id': '/subscriptions/99d7836d-942d-4759-80b6-2ed3b80b49e9/resourceGroups/cloud-shell-storage-eastus/providers/Microsoft.CognitiveServices/accounts/tsisodia-openai/deployments/tsisodia-gpt-1', 'name': 'tsisodia-gpt-1', 'type': 'Microsoft.CognitiveServices/accounts/deployments', 'sku': <azure.mgmt.cognitiveservices.models._models_py3.Sku object at 0x7fb753ec12e0>, 'system_data': <azure.mgmt.cognitiveservices.models._models_py3.SystemData object at 0x7fb753ec19a0>, 'etag': '\"68f8c18c-ff91-4190-bb7c-e522f03ad1fd\"', 'properties': <azure.mgmt.cognitiveservices.models._models_py3.DeploymentProperties object at 0x7fb753ec1a60>}\n",
      "{'additional_properties': {}, 'id': '/subscriptions/99d7836d-942d-4759-80b6-2ed3b80b49e9/resourceGroups/cloud-shell-storage-eastus/providers/Microsoft.CognitiveServices/accounts/tsisodia-openai/deployments/tsisodia-doc-classify', 'name': 'tsisodia-doc-classify', 'type': 'Microsoft.CognitiveServices/accounts/deployments', 'sku': <azure.mgmt.cognitiveservices.models._models_py3.Sku object at 0x7fb753ec1910>, 'system_data': <azure.mgmt.cognitiveservices.models._models_py3.SystemData object at 0x7fb753ec1d30>, 'etag': '\"ae9b60e7-9e10-4e73-a5a9-98b62bea4910\"', 'properties': <azure.mgmt.cognitiveservices.models._models_py3.DeploymentProperties object at 0x7fb753ec1b80>}\n"
     ]
    }
   ],
   "source": [
    "import os\n",
    "from azure.identity import DefaultAzureCredential\n",
    "from azure.mgmt.cognitiveservices import CognitiveServicesManagementClient\n",
    "\n",
    "os.environ['AZURE_CLIENT_ID']=\"\"\n",
    "os.environ['AZURE_TENANT_ID']=\"\"\n",
    "os.environ['AZURE_CLIENT_SECRET']=\"\"\n",
    "\n",
    "# list models deployed with embeddings capability\n",
    "deployment_id = None\n",
    "client = CognitiveServicesManagementClient(\n",
    "        credential=DefaultAzureCredential(),\n",
    "        subscription_id=\"\",\n",
    "    )\n",
    "\n",
    "response = client.deployments.begin_create_or_update(\n",
    "        resource_group_name=\"cloud-shell-storage-eastus\",\n",
    "        account_name=\"tsisodia-openai\",\n",
    "        deployment_name=\"tsisodia-doc-classify\",\n",
    "        deployment={\n",
    "            \"properties\": {\"model\": {\"format\": \"OpenAI\", \"name\": \"gpt-35-turbo\", \"version\": \"0301\"}},\n",
    "            \"sku\": {\"capacity\": 2, \"name\": \"Standard\"},\n",
    "        },\n",
    "    )\n",
    "\n",
    "response = client.deployments.list(\n",
    "        resource_group_name=\"cloud-shell-storage-eastus\",\n",
    "        account_name=\"tsisodia-openai\",\n",
    "    )\n",
    "for item in response:\n",
    "    print(item)"
   ]
  },
  {
   "cell_type": "markdown",
   "metadata": {
    "tags": []
   },
   "source": [
    "## Classify documents with their embeddings\n",
    "ref: https://github.com/openai/openai-cookbook/blob/main/examples/Classification_using_embeddings.ipynb"
   ]
  },
  {
   "cell_type": "code",
   "execution_count": 31,
   "metadata": {
    "tags": []
   },
   "outputs": [],
   "source": [
    "from azure.identity import DefaultAzureCredential\n",
    "from azure.mgmt.cognitiveservices import CognitiveServicesManagementClient\n",
    "from openai import AzureOpenAI\n",
    "\n",
    "client = AzureOpenAI(\n",
    "  api_key = \"\",\n",
    "  api_version = \"2023-05-15\",\n",
    "  azure_endpoint = \"https://<name>.openai.azure.com/\"  \n",
    ")\n",
    "\n",
    "# Function to classify a document using Azure OpenAI\n",
    "def classify_document(document_text):\n",
    "    # Constructing a prompt for the model\n",
    "    prompt = f\"Classify the following document into one of these categories: [BUSINESS, ENTERTAINMENT, POLITICS]:\\n\\nDocument: {document_text}\\n\\nClassification:\"\n",
    "    \n",
    "    # Sending the prompt to Azure OpenAI\n",
    "    response = client.completions.create(model='tsisodia-doc-classify', prompt=prompt)\n",
    "    \n",
    "    # Extract the classification from the response\n",
    "    classification = response.choices[0].text.strip()\n",
    "    return classification\n",
    "\n",
    "# Apply the classification to all documents in the dataset\n",
    "df['predicted_label'] = df['content'].apply(classify_document)"
   ]
  },
  {
   "cell_type": "markdown",
   "metadata": {},
   "source": [
    "## Save Results"
   ]
  },
  {
   "cell_type": "code",
   "execution_count": null,
   "metadata": {},
   "outputs": [],
   "source": [
    "# Save results to a file\n",
    "df.to_csv('classified_documents.csv', index=False)"
   ]
  }
 ],
 "metadata": {
  "kernelspec": {
   "display_name": "Python 3.9",
   "language": "python",
   "name": "python3"
  },
  "language_info": {
   "codemirror_mode": {
    "name": "ipython",
    "version": 3
   },
   "file_extension": ".py",
   "mimetype": "text/x-python",
   "name": "python",
   "nbconvert_exporter": "python",
   "pygments_lexer": "ipython3",
   "version": "3.9.18"
  },
  "vscode": {
   "interpreter": {
    "hash": "6d65a8c07f5b6469e0fc613f182488c0dccce05038bbda39e5ac9075c0454d11"
   }
  }
 },
 "nbformat": 4,
 "nbformat_minor": 4
}
